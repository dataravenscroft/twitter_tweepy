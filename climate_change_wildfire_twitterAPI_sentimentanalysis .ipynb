{
 "cells": [
  {
   "cell_type": "code",
   "execution_count": 101,
   "metadata": {},
   "outputs": [],
   "source": [
    "import pandas as pd\n",
    "import numpy as np\n",
    "import matplotlib.pyplot as plt\n",
    "%matplotlib inline\n",
    "import seaborn as sns\n",
    "import os\n",
    "import os\n",
    "import numpy as np\n",
    "import pandas as pd\n",
    "import matplotlib.pyplot as plt\n",
    "import seaborn as sns\n",
    "import itertools\n",
    "import collections\n",
    "\n",
    "import tweepy as tw\n",
    "import nltk\n",
    "from nltk import bigrams\n",
    "from nltk.corpus import stopwords\n",
    "import re\n",
    "import networkx as nx\n",
    "\n",
    "import warnings\n",
    "warnings.filterwarnings(\"ignore\")\n",
    "\n",
    "sns.set(font_scale=1.5)\n",
    "sns.set_style(\"whitegrid\")\n",
    "\n",
    "#https://www.earthdatascience.org/courses/use-data-open-source-python/intro-to-apis/calculate-tweet-word-bigrams/\n",
    "# reference : https://towardsdatascience.com/my-first-twitter-app-1115a327349e"
   ]
  },
  {
   "cell_type": "code",
   "execution_count": 19,
   "metadata": {},
   "outputs": [],
   "source": [
    "import tweepy\n",
    "\n",
    "# Variables that contains the credentials to access Twitter API\n",
    "ACCESS_TOKEN = '348034457-qJjktO3uHDBRsTep3jgJUGs89Tb8iDZwaAnAVWGF'\n",
    "ACCESS_SECRET = 'LLH1D4PomnLAqbjsLlAFlWC2zXHFFm2pdOjKZ6KpZiQTk'\n",
    "CONSUMER_KEY = 'P1yp5CjPPTNxfaeeKP8e6mbrh'\n",
    "CONSUMER_SECRET = 'otMVP4rSMXz1vin8xbWsova4FxPgLdD0hOn5LL7greS8FPkVWG'\n",
    "\n",
    "\n",
    "# Setup access to API\n",
    "def connect_to_twitter_OAuth():\n",
    "    auth = tweepy.OAuthHandler(CONSUMER_KEY, CONSUMER_SECRET)\n",
    "    auth.set_access_token(ACCESS_TOKEN, ACCESS_SECRET)\n",
    "\n",
    "    api = tweepy.API(auth)\n",
    "    return api\n",
    "\n",
    "\n",
    "# Create API object\n",
    "api = connect_to_twitter_OAuth() "
   ]
  },
  {
   "cell_type": "markdown",
   "metadata": {},
   "source": [
    "## Test API"
   ]
  },
  {
   "cell_type": "code",
   "execution_count": 20,
   "metadata": {},
   "outputs": [
    {
     "name": "stdout",
     "output_type": "stream",
     "text": [
      "RT @AfricaFactsZone: Rwanda's national carrier, RwandAir will become Africa's first airline to use the International Air Transport Associat…\n",
      "@_FriedrichMerz Das Corona Virus wird niemals verschwinden und uns begleiten wie die Grippe Vieren (zu denen auch d… https://t.co/kcVNj1fe1S\n",
      "RT @POTUS: The week before I took office, 6 million COVID-19 vaccine shots were administered.\n",
      "\n",
      "This coming week, our Administration will li…\n",
      "RT @ReutersAfrica: Ivory Coast received a shipment of COVID-19 doses from the COVAX vaccine-sharing facility on Friday, becoming the second…\n",
      "La volontaria è cinese-americana, il paziente afroamericano, nell’ambulatorio #lighthouseguild dove sono appena sta… https://t.co/uNQ2Ir9pRQ\n",
      "RT @jadennecabahug: If you are a non-Asian person that enjoys Asian things like kpop, anime, asian cuisine, etc; please don't ignore the ri…\n",
      "RT @Ticha_221: 1 minuto de silêncio para a vida universitária que o covid estragou :')\n",
      "RT @zaranosaur: “Do you have COVID fatigue?” “no I have everybody thinks it’s fine disabled people are dying fatigue”\n",
      "estoy abriendo las bolsas que vienen de bs as con la boca porque covid y miedo nunca tuve\n",
      "RT @Mippcivzla: 🗣️ ¡𝐄𝐒 𝐂𝐎𝐍𝐓𝐈𝐆𝐎 ! ✍️🇻🇪\n",
      "Debes cuidarte y tomar las previsiones necesarias para resguardarte del Covid-19.\n",
      "Por ti, por los tuy…\n"
     ]
    }
   ],
   "source": [
    "api = tweepy.API(auth)\n",
    "for tweet in tweepy.Cursor(api.search, q='COVID').items(10):\n",
    "    print(tweet.text)"
   ]
  },
  {
   "cell_type": "code",
   "execution_count": 26,
   "metadata": {},
   "outputs": [
    {
     "name": "stdout",
     "output_type": "stream",
     "text": [
      "RT @JohnCleese: Don't mention the mittens!!! https://t.co/LBDhZkXm9j\n",
      "@JohnCleese @FAWLTYTOWERS_ @BernieSanders Looks like Bernie doesn't like duck.\n",
      "RT @David_Leavitt: Twitter has locked @realDonaldTrump's account for 12 hours.\n",
      "\n",
      "Retweet if that's not enough and @TwitterSafety should DELE…\n",
      "RT @NOAASatellitePA: NEW: As numerous #wildfires rage across California, @NOAA's #GOES17🛰️ caught this time-lapse of the #lightning between…\n",
      "RT @NOAASatellitePA: UPDATE: Yesterday evening @NOAA's #GOES17 watched as smoke continued to billow from the #CaliforniaWildfires. Many of…\n",
      "RT @M_McDonough: All Employees U.S. Postal https://t.co/8Rvx3VLJ1e\n",
      "RT @TheEconomist: The electoral college splits voting power unevenly across states and discourages voting in uncompetitive states https://t…\n",
      "Keep up with the latest coronavirus research https://t.co/AoXAtFPUyx\n",
      "RT @MikeBloomberg: Bernie is a talker. I’m a doer.\n",
      "\n",
      "In 30 years in Congress, he has written three bills that became law.\n",
      "\n",
      "In 12 years as ma…\n",
      "@edyong209 Alexa, order some Raptors\n",
      "@MichaelEMann Think you meant \"fossil fuel burning for energy and\" transportation (not transpiration)\n",
      "@elonmusk I would love to see a camping outdoorsy conversion.....At the very least make sure you can fit a full siz… https://t.co/O1XyHgHxGq\n",
      "RT @kdnuggets: WTF is a Tensor?!? https://t.co/yT7EDRV12D https://t.co/oRAiuT8O8b\n",
      "RT @KirkDBorne: Comprehensive Repository with 100’s of #DataScience and #MachineLearning Resources for #DataScientists: https://t.co/qz1nRP…\n",
      "RT @GuyLansley: Just published 'Challenges to representing the population from new forms of consumer data' with @spatialanalysis in Geograp…\n",
      "RT @Esri: See what's new in the latest release of @ArcGISOnline! This release includes improvements and new capabilities for user experienc…\n",
      "Should we treat data as labor? Let’s open up the discussion https://t.co/l1omHGLfgM via @BrookingsInst\n",
      "RT @analyticbridge: R for Big Data in One Picture https://t.co/wwsSueSNzq\n",
      "RT @HCA_News: Gametime for #DataScientists: this year's #DataSciBowl kicked off last week with a focus on #DeepLearning and #AI for nuclei…\n",
      "RT @OxPsychiatry: New research opportunity with @OxPsychiatry and @turinginst - how can #MachineLearning assist treatment of #mentalhealth…\n"
     ]
    }
   ],
   "source": [
    "chr_tweets = api.user_timeline('chravens')\n",
    "for tweet in chr_tweets:\n",
    "    print(tweet.text)"
   ]
  },
  {
   "cell_type": "code",
   "execution_count": 25,
   "metadata": {},
   "outputs": [
    {
     "name": "stdout",
     "output_type": "stream",
     "text": [
      "U.S. Yield Curve: https://t.co/a4tiFb0yxl\n",
      "RT @carlquintanilla: DALLAS (AP) -- Texas Sen. Ted Cruz has traveled to Mexico for a family vacation as his home state struggles with a wea…\n",
      "U.S. Initial Jobless Claims: https://t.co/p5fA52dvSN\n",
      "U.S. Retail Sales significantly exceeded expectations in January, but the effect could be temporary on the back of… https://t.co/8XWkkokvZH\n",
      "U.S. Yield Curve: https://t.co/17c1H0DThl\n",
      "Daily Texas Electricity Demand (Seasonal Chart) https://t.co/Na1g1RRXpW\n",
      "He knows he voted not guilty, right?\n",
      "History won’t look back kindly on today.\n",
      "Change in Fed Treasury Holdings (post-2008 and during the pandemic): {@TheTerminal chart link:… https://t.co/rMXPgIdS4Y\n",
      "Looks like something happened in November?\n",
      "UMich Consumer Confidence by Political Party: https://t.co/aTG4Xj3Nxk\n",
      "RT @Patriots: Congratulations to the greatest of all time.\n",
      "My detailed NFP monitor: https://t.co/cemzmUgRoe\n",
      "Approval Ratings: Congress, Trump and Biden https://t.co/wY3bBOxIxj\n",
      "Congressional Job Approval/Disapproval Ratings https://t.co/I6MtEkLtmp\n",
      "COVID-19 Vaccine Doses Administered vs Confirmed Cases in the U.S. https://t.co/cGKNOvlxrJ\n",
      "Pretty decent move on the day for silver: https://t.co/SFXxSCLF0m\n",
      "Since it's blizzarding here in NY, I'm posting a weather chart: New York City rolling 1Y &amp;10Y average daily tempera… https://t.co/SUJ0KNLgAk\n",
      "Trump --&gt; Biden Approval Rating: https://t.co/JvKwE138fN\n",
      "Today's best and worst performing stocks in the U.S. (midday): https://t.co/P7PZa01ICd\n"
     ]
    }
   ],
   "source": [
    "mike_tweets = api.user_timeline('M_McDonough')\n",
    "for tweet in mike_tweets:\n",
    "    print(tweet.text)"
   ]
  },
  {
   "cell_type": "code",
   "execution_count": 31,
   "metadata": {},
   "outputs": [],
   "source": [
    "mike_df  = pd.DataFrame(mike_tweets)"
   ]
  },
  {
   "cell_type": "code",
   "execution_count": 33,
   "metadata": {},
   "outputs": [
    {
     "data": {
      "text/html": [
       "<div>\n",
       "<style scoped>\n",
       "    .dataframe tbody tr th:only-of-type {\n",
       "        vertical-align: middle;\n",
       "    }\n",
       "\n",
       "    .dataframe tbody tr th {\n",
       "        vertical-align: top;\n",
       "    }\n",
       "\n",
       "    .dataframe thead th {\n",
       "        text-align: right;\n",
       "    }\n",
       "</style>\n",
       "<table border=\"1\" class=\"dataframe\">\n",
       "  <thead>\n",
       "    <tr style=\"text-align: right;\">\n",
       "      <th></th>\n",
       "      <th>0</th>\n",
       "    </tr>\n",
       "  </thead>\n",
       "  <tbody>\n",
       "    <tr>\n",
       "      <th>0</th>\n",
       "      <td>Status(_api=&lt;tweepy.api.API object at 0x7fbc28...</td>\n",
       "    </tr>\n",
       "    <tr>\n",
       "      <th>1</th>\n",
       "      <td>Status(_api=&lt;tweepy.api.API object at 0x7fbc28...</td>\n",
       "    </tr>\n",
       "    <tr>\n",
       "      <th>2</th>\n",
       "      <td>Status(_api=&lt;tweepy.api.API object at 0x7fbc28...</td>\n",
       "    </tr>\n",
       "    <tr>\n",
       "      <th>3</th>\n",
       "      <td>Status(_api=&lt;tweepy.api.API object at 0x7fbc28...</td>\n",
       "    </tr>\n",
       "    <tr>\n",
       "      <th>4</th>\n",
       "      <td>Status(_api=&lt;tweepy.api.API object at 0x7fbc28...</td>\n",
       "    </tr>\n",
       "  </tbody>\n",
       "</table>\n",
       "</div>"
      ],
      "text/plain": [
       "                                                   0\n",
       "0  Status(_api=<tweepy.api.API object at 0x7fbc28...\n",
       "1  Status(_api=<tweepy.api.API object at 0x7fbc28...\n",
       "2  Status(_api=<tweepy.api.API object at 0x7fbc28...\n",
       "3  Status(_api=<tweepy.api.API object at 0x7fbc28...\n",
       "4  Status(_api=<tweepy.api.API object at 0x7fbc28..."
      ]
     },
     "execution_count": 33,
     "metadata": {},
     "output_type": "execute_result"
    }
   ],
   "source": []
  },
  {
   "cell_type": "markdown",
   "metadata": {},
   "source": [
    "    Search term -  #wildfires\n",
    "    the start date of your search"
   ]
  },
  {
   "cell_type": "code",
   "execution_count": 35,
   "metadata": {},
   "outputs": [],
   "source": [
    "search_words = \"#wildfires\"\n",
    "date_since = \"2020-01-01\""
   ]
  },
  {
   "cell_type": "code",
   "execution_count": null,
   "metadata": {},
   "outputs": [],
   "source": [
    "#  use .Cursor() to search twitter for tweets containing the \n",
    "#search term #wildfires. \n",
    "#Restrict the number of tweets returned by \n",
    "#specifying a number in the .items() method. .items(5) will return 5 of the most \n",
    "#recent tweets."
   ]
  },
  {
   "cell_type": "code",
   "execution_count": 36,
   "metadata": {},
   "outputs": [
    {
     "data": {
      "text/plain": [
       "<tweepy.cursor.ItemIterator at 0x7fbc597023d0>"
      ]
     },
     "execution_count": 36,
     "metadata": {},
     "output_type": "execute_result"
    }
   ],
   "source": [
    "# Collect tweets\n",
    "tweets = tw.Cursor(api.search,\n",
    "              q=search_words,\n",
    "              lang=\"en\",\n",
    "              since=date_since).items(5)\n",
    "tweets\n",
    "\n"
   ]
  },
  {
   "cell_type": "markdown",
   "metadata": {},
   "source": [
    ".Cursor() returns an object that you can iterate or loop over to access the data collected. Each item in the iterator has various attributes that you can access to get information about each tweet including:\n",
    "\n",
    "    the text of the tweet\n",
    "    who sent the tweet\n",
    "    the date the tweet was sent\n",
    "\n",
    "and more. The code below loops through the object and prints the text associated with each tweet."
   ]
  },
  {
   "cell_type": "code",
   "execution_count": 38,
   "metadata": {},
   "outputs": [
    {
     "name": "stdout",
     "output_type": "stream",
     "text": [
      "RT @GlobalGovForum: The scientific community has long warned us about an increase in environmentally induced disasters such as flooding and…\n",
      "RT @aidashinc: #DidYouKnow #utilities are legally bound to keep #powerlines away from #Vegetation which may lead to #Wildfires? #FridayFact…\n",
      "#DidYouKnow #utilities are legally bound to keep #powerlines away from #Vegetation which may lead to #Wildfires?… https://t.co/Ch8DokvXZe\n",
      "From the Amazon to Siberia, experts discussed the causes and outlooks of the world’s #wildfires on this #GLFLive se… https://t.co/VNRrNpTj8X\n",
      "RT @USGS: Post-wildfire landslides becoming more frequent in Southern California https://t.co/UShdPg0FTp #naturalhazards #California #lands…\n",
      "@b00sk0r @Sam_Lilleker @Britnatureguide @ARGroupsUK @ARC_Bytes @AddersAmazing @BritishHerpSoc @ynuorg @DerbysARG We… https://t.co/gqsMqPViS2\n",
      "Wildfires have a catastrophic impact, destroying nature's carbon sinks, emitting billions of tonnes of CO2. What if… https://t.co/SfOhHBP2df\n",
      "RT @SierraClubBC: Are #ClimateChange and industrial #logging making #wildfires worse? We look back at the #ElephantHill fire in the first s…\n",
      "@HartleyWintney8 Land owners, please develop and implement #WildfireManagementPlan to reduce the risk of #wildfires… https://t.co/CaYrzkaxBx\n",
      "RT @USGS: Post-wildfire landslides becoming more frequent in Southern California https://t.co/UShdPg0FTp #naturalhazards #California #lands…\n"
     ]
    }
   ],
   "source": [
    "#Collect tweets\n",
    "tweets = tw.Cursor(api.search, q = search_words, lang=\"en\", since=date_since).items(10)\n",
    "for tweet in tweets:\n",
    "    print(tweet.text)"
   ]
  },
  {
   "cell_type": "code",
   "execution_count": null,
   "metadata": {},
   "outputs": [],
   "source": [
    "## Instead of the standard for loop above\n",
    "# Do the same with list comprehension "
   ]
  },
  {
   "cell_type": "code",
   "execution_count": 39,
   "metadata": {},
   "outputs": [
    {
     "data": {
      "text/plain": [
       "['New USGS Strategy Harnesses State-of-the-Art Science to Tackle Wildfires Before, During and After the Flames @USGS… https://t.co/M7zkDZUlMT',\n",
       " 'RT @GlobalGovForum: The scientific community has long warned us about an increase in environmentally induced disasters such as flooding and…',\n",
       " 'RT @aidashinc: #DidYouKnow #utilities are legally bound to keep #powerlines away from #Vegetation which may lead to #Wildfires? #FridayFact…',\n",
       " '#DidYouKnow #utilities are legally bound to keep #powerlines away from #Vegetation which may lead to #Wildfires?… https://t.co/Ch8DokvXZe',\n",
       " 'From the Amazon to Siberia, experts discussed the causes and outlooks of the world’s #wildfires on this #GLFLive se… https://t.co/VNRrNpTj8X']"
      ]
     },
     "execution_count": 39,
     "metadata": {},
     "output_type": "execute_result"
    }
   ],
   "source": [
    "# Collect tweets\n",
    "tweets = tw.Cursor(api.search,\n",
    "                       q=search_words,\n",
    "                       lang=\"en\",\n",
    "                       since=date_since).items(5)\n",
    "\n",
    "# Collect a list of tweets\n",
    "[tweet.text for tweet in tweets]"
   ]
  },
  {
   "cell_type": "markdown",
   "metadata": {},
   "source": [
    "Don't include retweets"
   ]
  },
  {
   "cell_type": "code",
   "execution_count": 41,
   "metadata": {},
   "outputs": [
    {
     "data": {
      "text/plain": [
       "'#wildfires -filter:retweets'"
      ]
     },
     "execution_count": 41,
     "metadata": {},
     "output_type": "execute_result"
    }
   ],
   "source": [
    "new_search = search_words + \" -filter:retweets\"\n",
    "new_search\n",
    "\n"
   ]
  },
  {
   "cell_type": "code",
   "execution_count": 42,
   "metadata": {},
   "outputs": [
    {
     "data": {
      "text/plain": [
       "['Advances in Satellite Data for Wildfire Smoke Forecasting #SatelliteData #Wildfires #SmokeForecasting\\nhttps://t.co/yVBefCj2Ya',\n",
       " 'New USGS Strategy Harnesses State-of-the-Art Science to Tackle Wildfires Before, During and After the Flames @USGS… https://t.co/M7zkDZUlMT',\n",
       " '#DidYouKnow #utilities are legally bound to keep #powerlines away from #Vegetation which may lead to #Wildfires?… https://t.co/Ch8DokvXZe',\n",
       " 'From the Amazon to Siberia, experts discussed the causes and outlooks of the world’s #wildfires on this #GLFLive se… https://t.co/VNRrNpTj8X',\n",
       " '@b00sk0r @Sam_Lilleker @Britnatureguide @ARGroupsUK @ARC_Bytes @AddersAmazing @BritishHerpSoc @ynuorg @DerbysARG We… https://t.co/gqsMqPViS2']"
      ]
     },
     "execution_count": 42,
     "metadata": {},
     "output_type": "execute_result"
    }
   ],
   "source": [
    "tweets = tw.Cursor(api.search,\n",
    "                       q=new_search,\n",
    "                       lang=\"en\",\n",
    "                       since=date_since).items(5)\n",
    "\n",
    "[tweet.text for tweet in tweets]\n"
   ]
  },
  {
   "cell_type": "markdown",
   "metadata": {},
   "source": [
    "Who is Tweeting About Wildfires?\n",
    "    tweet.user.screen_name provides the user’s twitter handle associated with each tweet.\n",
    "    tweet.user.location provides the user’s provided location \n",
    "        (Manually entered into Twitter by the user)\n",
    "\n",
    "You can experiment with other items available within each tweet by typing tweet. and using the tab button to see all of the available attributes stored."
   ]
  },
  {
   "cell_type": "code",
   "execution_count": 43,
   "metadata": {},
   "outputs": [
    {
     "data": {
      "text/plain": [
       "[['HySpeedGeo', ''],\n",
       " ['HySpeedGeo', ''],\n",
       " ['aidashinc', 'San Jose, CA, USA '],\n",
       " ['GlobalLF', 'Bonn, Germany'],\n",
       " ['4peatssake2', 'Yorkshire & HHLs']]"
      ]
     },
     "execution_count": 43,
     "metadata": {},
     "output_type": "execute_result"
    }
   ],
   "source": [
    "tweets = tw.Cursor(api.search, \n",
    "                           q=new_search,\n",
    "                           lang=\"en\",\n",
    "                           since=date_since).items(5)\n",
    "\n",
    "users_locs = [[tweet.user.screen_name, tweet.user.location] for tweet in tweets]\n",
    "users_locs\n"
   ]
  },
  {
   "cell_type": "code",
   "execution_count": null,
   "metadata": {},
   "outputs": [],
   "source": [
    "## Create a Pandas DataFrame From a List of Tweet Data\n"
   ]
  },
  {
   "cell_type": "code",
   "execution_count": 46,
   "metadata": {},
   "outputs": [
    {
     "data": {
      "text/html": [
       "<div>\n",
       "<style scoped>\n",
       "    .dataframe tbody tr th:only-of-type {\n",
       "        vertical-align: middle;\n",
       "    }\n",
       "\n",
       "    .dataframe tbody tr th {\n",
       "        vertical-align: top;\n",
       "    }\n",
       "\n",
       "    .dataframe thead th {\n",
       "        text-align: right;\n",
       "    }\n",
       "</style>\n",
       "<table border=\"1\" class=\"dataframe\">\n",
       "  <thead>\n",
       "    <tr style=\"text-align: right;\">\n",
       "      <th></th>\n",
       "      <th>user</th>\n",
       "      <th>location</th>\n",
       "    </tr>\n",
       "  </thead>\n",
       "  <tbody>\n",
       "    <tr>\n",
       "      <th>0</th>\n",
       "      <td>HySpeedGeo</td>\n",
       "      <td></td>\n",
       "    </tr>\n",
       "    <tr>\n",
       "      <th>1</th>\n",
       "      <td>HySpeedGeo</td>\n",
       "      <td></td>\n",
       "    </tr>\n",
       "    <tr>\n",
       "      <th>2</th>\n",
       "      <td>aidashinc</td>\n",
       "      <td>San Jose, CA, USA</td>\n",
       "    </tr>\n",
       "    <tr>\n",
       "      <th>3</th>\n",
       "      <td>GlobalLF</td>\n",
       "      <td>Bonn, Germany</td>\n",
       "    </tr>\n",
       "    <tr>\n",
       "      <th>4</th>\n",
       "      <td>4peatssake2</td>\n",
       "      <td>Yorkshire &amp; HHLs</td>\n",
       "    </tr>\n",
       "  </tbody>\n",
       "</table>\n",
       "</div>"
      ],
      "text/plain": [
       "          user            location\n",
       "0   HySpeedGeo                    \n",
       "1   HySpeedGeo                    \n",
       "2    aidashinc  San Jose, CA, USA \n",
       "3     GlobalLF       Bonn, Germany\n",
       "4  4peatssake2    Yorkshire & HHLs"
      ]
     },
     "execution_count": 46,
     "metadata": {},
     "output_type": "execute_result"
    }
   ],
   "source": [
    "tweet_text = pd.DataFrame(data=users_locs, \n",
    "                    columns=['user', \"location\"])\n",
    "tweet_text\n"
   ]
  },
  {
   "cell_type": "code",
   "execution_count": null,
   "metadata": {},
   "outputs": [],
   "source": []
  },
  {
   "cell_type": "code",
   "execution_count": 50,
   "metadata": {},
   "outputs": [],
   "source": [
    "# fuction to extract data from tweet object\n",
    "def extract_tweet_attributes(tweet_object):\n",
    "    # create empty list\n",
    "    tweet_list =[]\n",
    "    # loop through tweet objects\n",
    "    for tweet in tweet_object:\n",
    "        tweet_id = tweet.id # unique integer identifier for tweet\n",
    "        text = tweet.text # utf-8 text of tweet\n",
    "        favorite_count = tweet.favorite_count\n",
    "        retweet_count = tweet.retweet_count\n",
    "        created_at = tweet.created_at # utc time tweet created\n",
    "        source = tweet.source # utility used to post tweet\n",
    "        reply_to_status = tweet.in_reply_to_status_id # if reply int of orginal tweet id\n",
    "        reply_to_user = tweet.in_reply_to_screen_name # if reply original tweetes screenname\n",
    "        retweets = tweet.retweet_count # number of times this tweet retweeted\n",
    "        favorites = tweet.favorite_count # number of time this tweet liked\n",
    "        # append attributes to list\n",
    "        tweet_list.append({'tweet_id':tweet_id, \n",
    "                          'text':text, \n",
    "                          'favorite_count':favorite_count,\n",
    "                          'retweet_count':retweet_count,\n",
    "                          'created_at':created_at, \n",
    "                          'source':source, \n",
    "                          'reply_to_status':reply_to_status, \n",
    "                          'reply_to_user':reply_to_user,\n",
    "                          'retweets':retweets,\n",
    "                          'favorites':favorites})\n",
    "    # create dataframe   \n",
    "    df = pd.DataFrame(tweet_list, columns=['tweet_id',\n",
    "                                           'text',\n",
    "                                           'favorite_count',\n",
    "                                           'retweet_count',\n",
    "                                           'created_at',\n",
    "                                           'source',\n",
    "                                           'reply_to_status',\n",
    "                                           'reply_to_user',\n",
    "                                           'retweets',\n",
    "                                           'favorites'])\n",
    "    return df\n",
    "\n",
    "\n",
    "df = extract_tweet_attributes(mike_tweets)"
   ]
  },
  {
   "cell_type": "code",
   "execution_count": 52,
   "metadata": {},
   "outputs": [
    {
     "name": "stdout",
     "output_type": "stream",
     "text": [
      "<class 'pandas.core.frame.DataFrame'>\n",
      "RangeIndex: 20 entries, 0 to 19\n",
      "Data columns (total 10 columns):\n",
      " #   Column           Non-Null Count  Dtype         \n",
      "---  ------           --------------  -----         \n",
      " 0   tweet_id         20 non-null     int64         \n",
      " 1   text             20 non-null     object        \n",
      " 2   favorite_count   20 non-null     int64         \n",
      " 3   retweet_count    20 non-null     int64         \n",
      " 4   created_at       20 non-null     datetime64[ns]\n",
      " 5   source           20 non-null     object        \n",
      " 6   reply_to_status  2 non-null      float64       \n",
      " 7   reply_to_user    2 non-null      object        \n",
      " 8   retweets         20 non-null     int64         \n",
      " 9   favorites        20 non-null     int64         \n",
      "dtypes: datetime64[ns](1), float64(1), int64(5), object(3)\n",
      "memory usage: 1.7+ KB\n"
     ]
    }
   ],
   "source": [
    "df.info()"
   ]
  },
  {
   "cell_type": "code",
   "execution_count": null,
   "metadata": {},
   "outputs": [],
   "source": [
    "# So above was by user -- \n",
    "# Can we get a users followers?\n",
    "# How about a users "
   ]
  },
  {
   "cell_type": "code",
   "execution_count": null,
   "metadata": {},
   "outputs": [],
   "source": []
  },
  {
   "cell_type": "code",
   "execution_count": 54,
   "metadata": {},
   "outputs": [
    {
     "data": {
      "text/plain": [
       "['\"Penn State climate scientist @MichaelEMann  agrees. The circulation is weakening “well ahead of schedule,” said Ma… https://t.co/8T3fuZgYui',\n",
       " \"@life2squared @SunPower People are going to go bullish and bearish on an emotional issue like climate change. I've… https://t.co/BHDtViveZN\",\n",
       " \"Itochu and France's Air Liquide to build giant hydrogen plant to accerlerate its adoption in Japan… https://t.co/dZLmKvmjfb\",\n",
       " \"@Intellekt37 @acidentalheaven @WatchChad @RealMattCouch There's no point. These people don't believe in anything re… https://t.co/N9AcRJABLS\",\n",
       " '#T20Italy\\n\\nregardless the pandemic, we will still have to face the consequences of climate change on the world econ… https://t.co/QO5XqcmyhO']"
      ]
     },
     "execution_count": 54,
     "metadata": {},
     "output_type": "execute_result"
    }
   ],
   "source": [
    "new_search = \"climate+change -filter:retweets\"\n",
    "\n",
    "tweets = tw.Cursor(api.search,\n",
    "                   q=new_search,\n",
    "                   lang=\"en\",\n",
    "                   since='2018-04-23').items(1000)\n",
    "\n",
    "all_tweets = [tweet.text for tweet in tweets]\n",
    "all_tweets[:5]\n",
    "\n"
   ]
  },
  {
   "cell_type": "code",
   "execution_count": 57,
   "metadata": {},
   "outputs": [],
   "source": [
    "import re\n",
    "\n",
    "def remove_url(txt):\n",
    "    \"\"\"Replace URLs found in a text string with nothing \n",
    "    (i.e. it will remove the URL from the string).\n",
    "\n",
    "    Parameters\n",
    "    ----------\n",
    "    txt : string\n",
    "        A text string that you want to parse and remove urls.\n",
    "\n",
    "    Returns\n",
    "    -------\n",
    "    The same txt string with url's removed.\n",
    "    \"\"\"\n",
    "\n",
    "    return \" \".join(re.sub(\"([^0-9A-Za-z \\t])|(\\w+:\\/\\/\\S+)\", \"\", txt).split())\n",
    "\n",
    "\n",
    "#define function to remove url from tweets\n",
    "#after defining create a list of clean tweets"
   ]
  },
  {
   "cell_type": "code",
   "execution_count": 58,
   "metadata": {},
   "outputs": [
    {
     "data": {
      "text/plain": [
       "['Penn State climate scientist MichaelEMann agrees The circulation is weakening well ahead of schedule said Ma',\n",
       " 'life2squared SunPower People are going to go bullish and bearish on an emotional issue like climate change Ive',\n",
       " 'Itochu and Frances Air Liquide to build giant hydrogen plant to accerlerate its adoption in Japan',\n",
       " 'Intellekt37 acidentalheaven WatchChad RealMattCouch Theres no point These people dont believe in anything re',\n",
       " 'T20Italyregardless the pandemic we will still have to face the consequences of climate change on the world econ']"
      ]
     },
     "execution_count": 58,
     "metadata": {},
     "output_type": "execute_result"
    }
   ],
   "source": [
    "all_tweets_no_urls = [remove_url(tweet) for tweet in all_tweets]\n",
    "all_tweets_no_urls[:5]\n"
   ]
  },
  {
   "cell_type": "code",
   "execution_count": 62,
   "metadata": {},
   "outputs": [
    {
     "data": {
      "text/plain": [
       "['penn',\n",
       " 'state',\n",
       " 'climate',\n",
       " 'scientist',\n",
       " 'michaelemann',\n",
       " 'agrees',\n",
       " 'the',\n",
       " 'circulation',\n",
       " 'is',\n",
       " 'weakening',\n",
       " 'well',\n",
       " 'ahead',\n",
       " 'of',\n",
       " 'schedule',\n",
       " 'said',\n",
       " 'ma']"
      ]
     },
     "execution_count": 62,
     "metadata": {},
     "output_type": "execute_result"
    }
   ],
   "source": [
    "# Split the words from one tweet into unique elements\n",
    "all_tweets_no_urls[0].lower().split()\n",
    "\n"
   ]
  },
  {
   "cell_type": "code",
   "execution_count": 63,
   "metadata": {},
   "outputs": [
    {
     "data": {
      "text/plain": [
       "[['penn',\n",
       "  'state',\n",
       "  'climate',\n",
       "  'scientist',\n",
       "  'michaelemann',\n",
       "  'agrees',\n",
       "  'the',\n",
       "  'circulation',\n",
       "  'is',\n",
       "  'weakening',\n",
       "  'well',\n",
       "  'ahead',\n",
       "  'of',\n",
       "  'schedule',\n",
       "  'said',\n",
       "  'ma'],\n",
       " ['life2squared',\n",
       "  'sunpower',\n",
       "  'people',\n",
       "  'are',\n",
       "  'going',\n",
       "  'to',\n",
       "  'go',\n",
       "  'bullish',\n",
       "  'and',\n",
       "  'bearish',\n",
       "  'on',\n",
       "  'an',\n",
       "  'emotional',\n",
       "  'issue',\n",
       "  'like',\n",
       "  'climate',\n",
       "  'change',\n",
       "  'ive']]"
      ]
     },
     "execution_count": 63,
     "metadata": {},
     "output_type": "execute_result"
    }
   ],
   "source": [
    "words_in_tweet = [tweet.lower().split() for tweet in all_tweets_no_urls]\n",
    "words_in_tweet[:2]"
   ]
  },
  {
   "cell_type": "code",
   "execution_count": 68,
   "metadata": {},
   "outputs": [
    {
     "data": {
      "text/plain": [
       "[('the', 670),\n",
       " ('climate', 623),\n",
       " ('change', 545),\n",
       " ('to', 480),\n",
       " ('of', 311),\n",
       " ('and', 309),\n",
       " ('is', 292),\n",
       " ('a', 287),\n",
       " ('in', 213),\n",
       " ('on', 172),\n",
       " ('for', 155),\n",
       " ('that', 134),\n",
       " ('are', 125),\n",
       " ('we', 114),\n",
       " ('i', 110)]"
      ]
     },
     "execution_count": 68,
     "metadata": {},
     "output_type": "execute_result"
    }
   ],
   "source": [
    "import itertools\n",
    "import collections\n",
    "# List of all words across tweets\n",
    "all_words_no_urls = list(itertools.chain(*words_in_tweet))\n",
    "\n",
    "# Create counter\n",
    "counts_no_urls = collections.Counter(all_words_no_urls)\n",
    "\n",
    "counts_no_urls.most_common(15)\n"
   ]
  },
  {
   "cell_type": "code",
   "execution_count": 69,
   "metadata": {},
   "outputs": [
    {
     "data": {
      "text/html": [
       "<div>\n",
       "<style scoped>\n",
       "    .dataframe tbody tr th:only-of-type {\n",
       "        vertical-align: middle;\n",
       "    }\n",
       "\n",
       "    .dataframe tbody tr th {\n",
       "        vertical-align: top;\n",
       "    }\n",
       "\n",
       "    .dataframe thead th {\n",
       "        text-align: right;\n",
       "    }\n",
       "</style>\n",
       "<table border=\"1\" class=\"dataframe\">\n",
       "  <thead>\n",
       "    <tr style=\"text-align: right;\">\n",
       "      <th></th>\n",
       "      <th>words</th>\n",
       "      <th>count</th>\n",
       "    </tr>\n",
       "  </thead>\n",
       "  <tbody>\n",
       "    <tr>\n",
       "      <th>0</th>\n",
       "      <td>the</td>\n",
       "      <td>670</td>\n",
       "    </tr>\n",
       "    <tr>\n",
       "      <th>1</th>\n",
       "      <td>climate</td>\n",
       "      <td>623</td>\n",
       "    </tr>\n",
       "    <tr>\n",
       "      <th>2</th>\n",
       "      <td>change</td>\n",
       "      <td>545</td>\n",
       "    </tr>\n",
       "    <tr>\n",
       "      <th>3</th>\n",
       "      <td>to</td>\n",
       "      <td>480</td>\n",
       "    </tr>\n",
       "    <tr>\n",
       "      <th>4</th>\n",
       "      <td>of</td>\n",
       "      <td>311</td>\n",
       "    </tr>\n",
       "  </tbody>\n",
       "</table>\n",
       "</div>"
      ],
      "text/plain": [
       "     words  count\n",
       "0      the    670\n",
       "1  climate    623\n",
       "2   change    545\n",
       "3       to    480\n",
       "4       of    311"
      ]
     },
     "execution_count": 69,
     "metadata": {},
     "output_type": "execute_result"
    }
   ],
   "source": [
    "clean_tweets_no_urls = pd.DataFrame(counts_no_urls.most_common(15),\n",
    "                             columns=['words', 'count'])\n",
    "\n",
    "clean_tweets_no_urls.head()\n"
   ]
  },
  {
   "cell_type": "code",
   "execution_count": 70,
   "metadata": {},
   "outputs": [
    {
     "data": {
      "image/png": "[encoded data removed]",
      "text/plain": [
       "<Figure size 576x576 with 1 Axes>"
      ]
     },
     "metadata": {
      "needs_background": "light"
     },
     "output_type": "display_data"
    }
   ],
   "source": [
    "fig, ax = plt.subplots(figsize=(8, 8))\n",
    "\n",
    "# Plot horizontal bar graph\n",
    "clean_tweets_no_urls.sort_values(by='count').plot.barh(x='words',\n",
    "                      y='count',\n",
    "                      ax=ax,\n",
    "                      color=\"purple\")\n",
    "\n",
    "ax.set_title(\"Common Words Found in Tweets (Including All Words)\")\n",
    "\n",
    "plt.show()\n"
   ]
  },
  {
   "cell_type": "code",
   "execution_count": 81,
   "metadata": {},
   "outputs": [],
   "source": [
    "import nltk as nltk"
   ]
  },
  {
   "cell_type": "code",
   "execution_count": 84,
   "metadata": {},
   "outputs": [
    {
     "name": "stderr",
     "output_type": "stream",
     "text": [
      "[nltk_data] Downloading package stopwords to\n",
      "[nltk_data]     /Users/catherineravenscroft/nltk_data...\n",
      "[nltk_data]   Package stopwords is already up-to-date!\n"
     ]
    }
   ],
   "source": [
    "nltk.download('stopwords') \n",
    "from nltk.corpus import stopwords"
   ]
  },
  {
   "cell_type": "code",
   "execution_count": 85,
   "metadata": {},
   "outputs": [
    {
     "data": {
      "text/plain": [
       "['doing', 'what', 'after', 'will', 'that', 'few', 'we', 'about', 'me', 'down']"
      ]
     },
     "execution_count": 85,
     "metadata": {},
     "output_type": "execute_result"
    }
   ],
   "source": [
    "stop_words = set(stopwords.words('english'))\n",
    "\n",
    "# View a few words from the set\n",
    "list(stop_words)[0:10]\n"
   ]
  },
  {
   "cell_type": "code",
   "execution_count": 86,
   "metadata": {},
   "outputs": [
    {
     "data": {
      "text/plain": [
       "['penn',\n",
       " 'state',\n",
       " 'climate',\n",
       " 'scientist',\n",
       " 'michaelemann',\n",
       " 'agrees',\n",
       " 'circulation',\n",
       " 'weakening',\n",
       " 'well',\n",
       " 'ahead',\n",
       " 'schedule',\n",
       " 'said']"
      ]
     },
     "execution_count": 86,
     "metadata": {},
     "output_type": "execute_result"
    }
   ],
   "source": [
    "tweets_nsw = [[word for word in tweet_words if not word in stop_words]\n",
    "              for tweet_words in words_in_tweet]\n",
    "\n",
    "tweets_nsw[0]"
   ]
  },
  {
   "cell_type": "code",
   "execution_count": 87,
   "metadata": {},
   "outputs": [
    {
     "data": {
      "text/plain": [
       "[('climate', 623),\n",
       " ('change', 545),\n",
       " ('new', 44),\n",
       " ('people', 42),\n",
       " ('us', 39),\n",
       " ('like', 37),\n",
       " ('dont', 35),\n",
       " ('amp', 34),\n",
       " ('global', 34),\n",
       " ('world', 33),\n",
       " ('think', 32),\n",
       " ('would', 31),\n",
       " ('emissions', 29),\n",
       " ('science', 28),\n",
       " ('could', 28)]"
      ]
     },
     "execution_count": 87,
     "metadata": {},
     "output_type": "execute_result"
    }
   ],
   "source": [
    "#flatten list and create a counter to return the \n",
    "#most commonly used words and the number of times that they are used.\n",
    "\n",
    "all_words_nsw = list(itertools.chain(*tweets_nsw))\n",
    "\n",
    "counts_nsw = collections.Counter(all_words_nsw)\n",
    "\n",
    "counts_nsw.most_common(15)\n",
    "\n",
    "\n",
    "\n",
    "\n"
   ]
  },
  {
   "cell_type": "code",
   "execution_count": 88,
   "metadata": {},
   "outputs": [
    {
     "data": {
      "image/png": "[encoded data removed]",
      "text/plain": [
       "<Figure size 576x576 with 1 Axes>"
      ]
     },
     "metadata": {
      "needs_background": "light"
     },
     "output_type": "display_data"
    }
   ],
   "source": [
    "#Create pd Dataframe and plot the word frequencies without the stop words.\n",
    "clean_tweets_nsw = pd.DataFrame(counts_nsw.most_common(15),\n",
    "                             columns=['words', 'count'])\n",
    "\n",
    "fig, ax = plt.subplots(figsize=(8, 8))\n",
    "\n",
    "# Plot horizontal bar graph\n",
    "clean_tweets_nsw.sort_values(by='count').plot.barh(x='words',\n",
    "                      y='count',\n",
    "                      ax=ax,\n",
    "                      color=\"purple\")\n",
    "\n",
    "ax.set_title(\"Common Words Found in Tweets (Without Stop Words)\")\n",
    "\n",
    "plt.show()\n",
    "\n",
    "\n"
   ]
  },
  {
   "cell_type": "code",
   "execution_count": 89,
   "metadata": {},
   "outputs": [],
   "source": [
    "## Remove collection words \n",
    "collection_words = ['climatechange', 'climate', 'change']\n"
   ]
  },
  {
   "cell_type": "code",
   "execution_count": 90,
   "metadata": {},
   "outputs": [],
   "source": [
    "tweets_nsw_nc = [[w for w in word if not w in collection_words]\n",
    "                for word in tweets_nsw]"
   ]
  },
  {
   "cell_type": "code",
   "execution_count": 91,
   "metadata": {},
   "outputs": [
    {
     "data": {
      "text/plain": [
       "['penn',\n",
       " 'state',\n",
       " 'climate',\n",
       " 'scientist',\n",
       " 'michaelemann',\n",
       " 'agrees',\n",
       " 'circulation',\n",
       " 'weakening',\n",
       " 'well',\n",
       " 'ahead',\n",
       " 'schedule',\n",
       " 'said']"
      ]
     },
     "execution_count": 91,
     "metadata": {},
     "output_type": "execute_result"
    }
   ],
   "source": [
    "tweets_nsw[0]"
   ]
  },
  {
   "cell_type": "code",
   "execution_count": 93,
   "metadata": {},
   "outputs": [
    {
     "data": {
      "text/plain": [
       "['life2squared',\n",
       " 'sunpower',\n",
       " 'people',\n",
       " 'going',\n",
       " 'go',\n",
       " 'bullish',\n",
       " 'bearish',\n",
       " 'emotional',\n",
       " 'issue',\n",
       " 'like',\n",
       " 'ive']"
      ]
     },
     "execution_count": 93,
     "metadata": {},
     "output_type": "execute_result"
    }
   ],
   "source": [
    "tweets_nsw_nc[1]"
   ]
  },
  {
   "cell_type": "code",
   "execution_count": 98,
   "metadata": {},
   "outputs": [
    {
     "data": {
      "text/plain": [
       "[('new', 44),\n",
       " ('people', 42),\n",
       " ('us', 39),\n",
       " ('like', 37),\n",
       " ('dont', 35),\n",
       " ('amp', 34),\n",
       " ('global', 34),\n",
       " ('world', 33),\n",
       " ('think', 32),\n",
       " ('would', 31),\n",
       " ('emissions', 29),\n",
       " ('science', 28),\n",
       " ('could', 28),\n",
       " ('fight', 27),\n",
       " ('via', 27)]"
      ]
     },
     "execution_count": 98,
     "metadata": {},
     "output_type": "execute_result"
    }
   ],
   "source": [
    "\n",
    "# Plot the final word frequency results \n",
    "#- flatten the list and creat counter for words in tweets\n",
    "all_words_nsw_nc = list(itertools.chain(*tweets_nsw_nc))\n",
    "\n",
    "counts_nsw_nc = collections.Counter(all_words_nsw_nc)\n",
    "\n",
    "counts_nsw_nc.most_common(15)\n",
    "\n"
   ]
  },
  {
   "cell_type": "code",
   "execution_count": 99,
   "metadata": {},
   "outputs": [
    {
     "data": {
      "text/plain": [
       "4462"
      ]
     },
     "execution_count": 99,
     "metadata": {},
     "output_type": "execute_result"
    }
   ],
   "source": [
    "len(counts_nsw_nc)"
   ]
  },
  {
   "cell_type": "code",
   "execution_count": 100,
   "metadata": {},
   "outputs": [
    {
     "data": {
      "text/html": [
       "<div>\n",
       "<style scoped>\n",
       "    .dataframe tbody tr th:only-of-type {\n",
       "        vertical-align: middle;\n",
       "    }\n",
       "\n",
       "    .dataframe tbody tr th {\n",
       "        vertical-align: top;\n",
       "    }\n",
       "\n",
       "    .dataframe thead th {\n",
       "        text-align: right;\n",
       "    }\n",
       "</style>\n",
       "<table border=\"1\" class=\"dataframe\">\n",
       "  <thead>\n",
       "    <tr style=\"text-align: right;\">\n",
       "      <th></th>\n",
       "      <th>words</th>\n",
       "      <th>count</th>\n",
       "    </tr>\n",
       "  </thead>\n",
       "  <tbody>\n",
       "    <tr>\n",
       "      <th>0</th>\n",
       "      <td>new</td>\n",
       "      <td>44</td>\n",
       "    </tr>\n",
       "    <tr>\n",
       "      <th>1</th>\n",
       "      <td>people</td>\n",
       "      <td>42</td>\n",
       "    </tr>\n",
       "    <tr>\n",
       "      <th>2</th>\n",
       "      <td>us</td>\n",
       "      <td>39</td>\n",
       "    </tr>\n",
       "    <tr>\n",
       "      <th>3</th>\n",
       "      <td>like</td>\n",
       "      <td>37</td>\n",
       "    </tr>\n",
       "    <tr>\n",
       "      <th>4</th>\n",
       "      <td>dont</td>\n",
       "      <td>35</td>\n",
       "    </tr>\n",
       "  </tbody>\n",
       "</table>\n",
       "</div>"
      ],
      "text/plain": [
       "    words  count\n",
       "0     new     44\n",
       "1  people     42\n",
       "2      us     39\n",
       "3    like     37\n",
       "4    dont     35"
      ]
     },
     "execution_count": 100,
     "metadata": {},
     "output_type": "execute_result"
    }
   ],
   "source": [
    "clean_tweets_ncw = pd.DataFrame(counts_nsw_nc.most_common(15),\n",
    "                             columns=['words', 'count'])\n",
    "clean_tweets_ncw.head()\n",
    "# plot the top 1 most common words and their "
   ]
  },
  {
   "cell_type": "markdown",
   "metadata": {},
   "source": [
    "#### 1. Bigrams (co-occurring words) in Tweets\n",
    "#### 2. Create networks from words in Tweets"
   ]
  },
  {
   "cell_type": "code",
   "execution_count": 104,
   "metadata": {},
   "outputs": [],
   "source": [
    "# Creat list of lists containing bigrams in tweets\n",
    "\n",
    "terms_bigram = [list(bigrams(tweet)) for tweet in tweets_nsw_nc]"
   ]
  },
  {
   "cell_type": "code",
   "execution_count": 103,
   "metadata": {},
   "outputs": [
    {
     "data": {
      "text/plain": [
       "[('penn', 'state'),\n",
       " ('state', 'scientist'),\n",
       " ('scientist', 'michaelemann'),\n",
       " ('michaelemann', 'agrees'),\n",
       " ('agrees', 'circulation'),\n",
       " ('circulation', 'weakening'),\n",
       " ('weakening', 'well'),\n",
       " ('well', 'ahead'),\n",
       " ('ahead', 'schedule'),\n",
       " ('schedule', 'said')]"
      ]
     },
     "execution_count": 103,
     "metadata": {},
     "output_type": "execute_result"
    }
   ],
   "source": [
    "terms_bigram[0]"
   ]
  },
  {
   "cell_type": "code",
   "execution_count": 107,
   "metadata": {},
   "outputs": [
    {
     "data": {
      "text/plain": [
       "['penn',\n",
       " 'state',\n",
       " 'scientist',\n",
       " 'michaelemann',\n",
       " 'agrees',\n",
       " 'circulation',\n",
       " 'weakening',\n",
       " 'well',\n",
       " 'ahead',\n",
       " 'schedule',\n",
       " 'said']"
      ]
     },
     "execution_count": 107,
     "metadata": {},
     "output_type": "execute_result"
    }
   ],
   "source": [
    "tweets_nsw_nc[0]"
   ]
  },
  {
   "cell_type": "code",
   "execution_count": 108,
   "metadata": {},
   "outputs": [
    {
     "data": {
      "text/plain": [
       "[(('united', 'nations'), 18),\n",
       " (('nations', 'countries'), 17),\n",
       " (('pledges', 'cut'), 17),\n",
       " (('countries', 'pledges'), 16),\n",
       " (('cut', 'emissions'), 16),\n",
       " (('emissions', 'far'), 16),\n",
       " (('far', 'meager'), 16),\n",
       " (('meager', 'halt'), 16),\n",
       " (('war', 'smoking'), 15),\n",
       " (('smoking', 'gun'), 15),\n",
       " (('gun', 'vice'), 15),\n",
       " (('vice', 'versa'), 15),\n",
       " (('gulf', 'stream'), 12),\n",
       " (('seen', 'new'), 9),\n",
       " (('new', 'proposal'), 9),\n",
       " (('proposal', 'could'), 9),\n",
       " (('could', 'tie'), 9),\n",
       " (('tie', 'debt'), 9),\n",
       " (('debt', 'repayments'), 9),\n",
       " (('repayments', 'nature'), 9)]"
      ]
     },
     "execution_count": 108,
     "metadata": {},
     "output_type": "execute_result"
    }
   ],
   "source": [
    "# Count the occurence of bigrams in the list of 100 tweets \n",
    "\n",
    "# Flatten list of bigrams in clean tweets\n",
    "bigrams = list(itertools.chain(*terms_bigram))\n",
    "\n",
    "# Create counter of words in clean bigrams\n",
    "bigram_counts = collections.Counter(bigrams)\n",
    "\n",
    "bigram_counts.most_common(20)\n",
    "\n",
    "\n"
   ]
  },
  {
   "cell_type": "code",
   "execution_count": 109,
   "metadata": {},
   "outputs": [
    {
     "data": {
      "text/html": [
       "<div>\n",
       "<style scoped>\n",
       "    .dataframe tbody tr th:only-of-type {\n",
       "        vertical-align: middle;\n",
       "    }\n",
       "\n",
       "    .dataframe tbody tr th {\n",
       "        vertical-align: top;\n",
       "    }\n",
       "\n",
       "    .dataframe thead th {\n",
       "        text-align: right;\n",
       "    }\n",
       "</style>\n",
       "<table border=\"1\" class=\"dataframe\">\n",
       "  <thead>\n",
       "    <tr style=\"text-align: right;\">\n",
       "      <th></th>\n",
       "      <th>bigram</th>\n",
       "      <th>count</th>\n",
       "    </tr>\n",
       "  </thead>\n",
       "  <tbody>\n",
       "    <tr>\n",
       "      <th>0</th>\n",
       "      <td>(united, nations)</td>\n",
       "      <td>18</td>\n",
       "    </tr>\n",
       "    <tr>\n",
       "      <th>1</th>\n",
       "      <td>(nations, countries)</td>\n",
       "      <td>17</td>\n",
       "    </tr>\n",
       "    <tr>\n",
       "      <th>2</th>\n",
       "      <td>(pledges, cut)</td>\n",
       "      <td>17</td>\n",
       "    </tr>\n",
       "    <tr>\n",
       "      <th>3</th>\n",
       "      <td>(countries, pledges)</td>\n",
       "      <td>16</td>\n",
       "    </tr>\n",
       "    <tr>\n",
       "      <th>4</th>\n",
       "      <td>(cut, emissions)</td>\n",
       "      <td>16</td>\n",
       "    </tr>\n",
       "    <tr>\n",
       "      <th>5</th>\n",
       "      <td>(emissions, far)</td>\n",
       "      <td>16</td>\n",
       "    </tr>\n",
       "    <tr>\n",
       "      <th>6</th>\n",
       "      <td>(far, meager)</td>\n",
       "      <td>16</td>\n",
       "    </tr>\n",
       "    <tr>\n",
       "      <th>7</th>\n",
       "      <td>(meager, halt)</td>\n",
       "      <td>16</td>\n",
       "    </tr>\n",
       "    <tr>\n",
       "      <th>8</th>\n",
       "      <td>(war, smoking)</td>\n",
       "      <td>15</td>\n",
       "    </tr>\n",
       "    <tr>\n",
       "      <th>9</th>\n",
       "      <td>(smoking, gun)</td>\n",
       "      <td>15</td>\n",
       "    </tr>\n",
       "    <tr>\n",
       "      <th>10</th>\n",
       "      <td>(gun, vice)</td>\n",
       "      <td>15</td>\n",
       "    </tr>\n",
       "    <tr>\n",
       "      <th>11</th>\n",
       "      <td>(vice, versa)</td>\n",
       "      <td>15</td>\n",
       "    </tr>\n",
       "    <tr>\n",
       "      <th>12</th>\n",
       "      <td>(gulf, stream)</td>\n",
       "      <td>12</td>\n",
       "    </tr>\n",
       "    <tr>\n",
       "      <th>13</th>\n",
       "      <td>(seen, new)</td>\n",
       "      <td>9</td>\n",
       "    </tr>\n",
       "    <tr>\n",
       "      <th>14</th>\n",
       "      <td>(new, proposal)</td>\n",
       "      <td>9</td>\n",
       "    </tr>\n",
       "    <tr>\n",
       "      <th>15</th>\n",
       "      <td>(proposal, could)</td>\n",
       "      <td>9</td>\n",
       "    </tr>\n",
       "    <tr>\n",
       "      <th>16</th>\n",
       "      <td>(could, tie)</td>\n",
       "      <td>9</td>\n",
       "    </tr>\n",
       "    <tr>\n",
       "      <th>17</th>\n",
       "      <td>(tie, debt)</td>\n",
       "      <td>9</td>\n",
       "    </tr>\n",
       "    <tr>\n",
       "      <th>18</th>\n",
       "      <td>(debt, repayments)</td>\n",
       "      <td>9</td>\n",
       "    </tr>\n",
       "    <tr>\n",
       "      <th>19</th>\n",
       "      <td>(repayments, nature)</td>\n",
       "      <td>9</td>\n",
       "    </tr>\n",
       "  </tbody>\n",
       "</table>\n",
       "</div>"
      ],
      "text/plain": [
       "                  bigram  count\n",
       "0      (united, nations)     18\n",
       "1   (nations, countries)     17\n",
       "2         (pledges, cut)     17\n",
       "3   (countries, pledges)     16\n",
       "4       (cut, emissions)     16\n",
       "5       (emissions, far)     16\n",
       "6          (far, meager)     16\n",
       "7         (meager, halt)     16\n",
       "8         (war, smoking)     15\n",
       "9         (smoking, gun)     15\n",
       "10           (gun, vice)     15\n",
       "11         (vice, versa)     15\n",
       "12        (gulf, stream)     12\n",
       "13           (seen, new)      9\n",
       "14       (new, proposal)      9\n",
       "15     (proposal, could)      9\n",
       "16          (could, tie)      9\n",
       "17           (tie, debt)      9\n",
       "18    (debt, repayments)      9\n",
       "19  (repayments, nature)      9"
      ]
     },
     "execution_count": 109,
     "metadata": {},
     "output_type": "execute_result"
    }
   ],
   "source": [
    "bigram_df = pd.DataFrame(bigram_counts.most_common(20), columns=['bigram', 'count'])\n",
    "bigram_df"
   ]
  },
  {
   "cell_type": "code",
   "execution_count": 110,
   "metadata": {},
   "outputs": [
    {
     "data": {
      "text/plain": [
       "[{('united', 'nations'): 18,\n",
       "  ('nations', 'countries'): 17,\n",
       "  ('pledges', 'cut'): 17,\n",
       "  ('countries', 'pledges'): 16,\n",
       "  ('cut', 'emissions'): 16,\n",
       "  ('emissions', 'far'): 16,\n",
       "  ('far', 'meager'): 16,\n",
       "  ('meager', 'halt'): 16,\n",
       "  ('war', 'smoking'): 15,\n",
       "  ('smoking', 'gun'): 15,\n",
       "  ('gun', 'vice'): 15,\n",
       "  ('vice', 'versa'): 15,\n",
       "  ('gulf', 'stream'): 12,\n",
       "  ('seen', 'new'): 9,\n",
       "  ('new', 'proposal'): 9,\n",
       "  ('proposal', 'could'): 9,\n",
       "  ('could', 'tie'): 9,\n",
       "  ('tie', 'debt'): 9,\n",
       "  ('debt', 'repayments'): 9,\n",
       "  ('repayments', 'nature'): 9}]"
      ]
     },
     "execution_count": 110,
     "metadata": {},
     "output_type": "execute_result"
    }
   ],
   "source": [
    "# Create dictionary of bigrams and their counts\n",
    "d = bigram_df.set_index('bigram').T.to_dict('records')\n",
    "d"
   ]
  },
  {
   "cell_type": "code",
   "execution_count": 111,
   "metadata": {},
   "outputs": [],
   "source": [
    "# Create network plot \n",
    "G = nx.Graph()\n",
    "\n",
    "# Create connections between nodes\n",
    "for k, v in d[0].items():\n",
    "    G.add_edge(k[0], k[1], weight=(v * 10))\n",
    "\n",
    "G.add_node(\"china\", weight=100)\n"
   ]
  },
  {
   "cell_type": "code",
   "execution_count": 112,
   "metadata": {},
   "outputs": [
    {
     "data": {
      "image/png": "[encoded data removed]",
      "text/plain": [
       "<Figure size 720x576 with 1 Axes>"
      ]
     },
     "metadata": {},
     "output_type": "display_data"
    }
   ],
   "source": [
    "fig, ax = plt.subplots(figsize=(10, 8))\n",
    "\n",
    "pos = nx.spring_layout(G, k=2)\n",
    "\n",
    "# Plot networks\n",
    "nx.draw_networkx(G, pos,\n",
    "                 font_size=16,\n",
    "                 width=3,\n",
    "                 edge_color='grey',\n",
    "                 node_color='purple',\n",
    "                 with_labels = False,\n",
    "                 ax=ax)\n",
    "\n",
    "# Create offset labels\n",
    "for key, value in pos.items():\n",
    "    x, y = value[0]+.135, value[1]+.045\n",
    "    ax.text(x, y,\n",
    "            s=key,\n",
    "            bbox=dict(facecolor='red', alpha=0.25),\n",
    "            horizontalalignment='center', fontsize=13)\n",
    "    \n",
    "plt.show()\n"
   ]
  },
  {
   "cell_type": "markdown",
   "metadata": {},
   "source": [
    "#This plot displays the networks of co-occurring words in tweets on climate change "
   ]
  },
  {
   "cell_type": "markdown",
   "metadata": {},
   "source": [
    "## Sentiment Analysis "
   ]
  },
  {
   "cell_type": "code",
   "execution_count": 117,
   "metadata": {},
   "outputs": [],
   "source": [
    "import networkx\n",
    "from textblob import TextBlob\n",
    "\n",
    "import warnings\n",
    "warnings.filterwarnings(\"ignore\")\n",
    "\n",
    "sns.set(font_scale=1.5)\n",
    "sns.set_style(\"whitegrid\")"
   ]
  },
  {
   "cell_type": "code",
   "execution_count": 120,
   "metadata": {},
   "outputs": [],
   "source": [
    "# Create a custom search term and define the number of tweets\n",
    "search_term = \"#climate+change -filter:retweets\"\n",
    "\n",
    "tweets = tw.Cursor(api.search,\n",
    "                   q=search_term,\n",
    "                   lang=\"en\",\n",
    "                   since='2018-11-01').items(1000)\n",
    "\n",
    "# Remove URLs\n",
    "tweets_no_urls = [remove_url(tweet.text) for tweet in tweets]\n"
   ]
  },
  {
   "cell_type": "code",
   "execution_count": null,
   "metadata": {},
   "outputs": [],
   "source": [
    "#Python package textblob to calculate the polarity values of \n",
    "#individual tweets on climate change.\n",
    "\n",
    "#Begin by creating textblob objects, which assign polarity values \n",
    "#to the tweets.\n",
    "#identify the polarity value using the attribute .polarity of texblob object."
   ]
  },
  {
   "cell_type": "code",
   "execution_count": 123,
   "metadata": {},
   "outputs": [
    {
     "data": {
      "text/plain": [
       "[0.0,\n",
       " 'Once again Australia is named as a country which has made no substantial contribution to meeting climate change']"
      ]
     },
     "execution_count": 123,
     "metadata": {},
     "output_type": "execute_result"
    }
   ],
   "source": [
    "# Create textblob objects of the tweets\n",
    "sentiment_objects = [TextBlob(tweet) for tweet in tweets_no_urls]\n",
    "\n",
    "sentiment_objects[0].polarity, sentiment_objects[0]\n",
    "# Create list of polarity valuesx and tweet text\n",
    "sentiment_values = [[tweet.sentiment.polarity, str(tweet)] for tweet in sentiment_objects]\n",
    "\n",
    "sentiment_values[0]\n",
    "\n"
   ]
  },
  {
   "cell_type": "code",
   "execution_count": 124,
   "metadata": {},
   "outputs": [
    {
     "data": {
      "text/html": [
       "<div>\n",
       "<style scoped>\n",
       "    .dataframe tbody tr th:only-of-type {\n",
       "        vertical-align: middle;\n",
       "    }\n",
       "\n",
       "    .dataframe tbody tr th {\n",
       "        vertical-align: top;\n",
       "    }\n",
       "\n",
       "    .dataframe thead th {\n",
       "        text-align: right;\n",
       "    }\n",
       "</style>\n",
       "<table border=\"1\" class=\"dataframe\">\n",
       "  <thead>\n",
       "    <tr style=\"text-align: right;\">\n",
       "      <th></th>\n",
       "      <th>polarity</th>\n",
       "      <th>tweet</th>\n",
       "    </tr>\n",
       "  </thead>\n",
       "  <tbody>\n",
       "    <tr>\n",
       "      <th>0</th>\n",
       "      <td>0.000000</td>\n",
       "      <td>Once again Australia is named as a country whi...</td>\n",
       "    </tr>\n",
       "    <tr>\n",
       "      <th>1</th>\n",
       "      <td>0.000000</td>\n",
       "      <td>LeChatNoire4 wmnfnews mexmarks Combo of climat...</td>\n",
       "    </tr>\n",
       "    <tr>\n",
       "      <th>2</th>\n",
       "      <td>0.175000</td>\n",
       "      <td>The King Climate Action Initiative of JPAL ann...</td>\n",
       "    </tr>\n",
       "    <tr>\n",
       "      <th>3</th>\n",
       "      <td>0.000000</td>\n",
       "      <td>The Arctics rapid decline in seal populations ...</td>\n",
       "    </tr>\n",
       "    <tr>\n",
       "      <th>4</th>\n",
       "      <td>0.253333</td>\n",
       "      <td>PlanetarySec AlexVerbeek GenevaSolutions Very ...</td>\n",
       "    </tr>\n",
       "  </tbody>\n",
       "</table>\n",
       "</div>"
      ],
      "text/plain": [
       "   polarity                                              tweet\n",
       "0  0.000000  Once again Australia is named as a country whi...\n",
       "1  0.000000  LeChatNoire4 wmnfnews mexmarks Combo of climat...\n",
       "2  0.175000  The King Climate Action Initiative of JPAL ann...\n",
       "3  0.000000  The Arctics rapid decline in seal populations ...\n",
       "4  0.253333  PlanetarySec AlexVerbeek GenevaSolutions Very ..."
      ]
     },
     "execution_count": 124,
     "metadata": {},
     "output_type": "execute_result"
    }
   ],
   "source": [
    "# Create dataframe containing the polarity value and tweet text\n",
    "sentiment_df = pd.DataFrame(sentiment_values, columns=[\"polarity\", \"tweet\"])\n",
    "\n",
    "sentiment_df.head()\n"
   ]
  },
  {
   "cell_type": "code",
   "execution_count": 125,
   "metadata": {},
   "outputs": [
    {
     "data": {
      "image/png": "[encoded data removed]",
      "text/plain": [
       "<Figure size 576x432 with 1 Axes>"
      ]
     },
     "metadata": {},
     "output_type": "display_data"
    }
   ],
   "source": [
    "fig, ax = plt.subplots(figsize=(8, 6))\n",
    "\n",
    "# Plot histogram of the polarity values\n",
    "sentiment_df.hist(bins=[-1, -0.75, -0.5, -0.25, 0.25, 0.5, 0.75, 1],\n",
    "             ax=ax,\n",
    "             color=\"purple\")\n",
    "\n",
    "plt.title(\"Sentiments from Tweets on Climate Change\")\n",
    "plt.show()\n"
   ]
  },
  {
   "cell_type": "code",
   "execution_count": 126,
   "metadata": {},
   "outputs": [
    {
     "data": {
      "image/png": "[encoded data removed]",
      "text/plain": [
       "<Figure size 576x432 with 1 Axes>"
      ]
     },
     "metadata": {},
     "output_type": "display_data"
    }
   ],
   "source": [
    "#To get a better visual of the polarit values, \n",
    "#remove the polarity values equal to zero and \n",
    "#create a break in the histogram at zero.\n",
    "\n",
    "# Remove polarity values equal to zero\n",
    "sentiment_df = sentiment_df[sentiment_df.polarity != 0]\n",
    "\n",
    "fig, ax = plt.subplots(figsize=(8, 6))\n",
    "\n",
    "# Plot histogram with break at zero\n",
    "sentiment_df.hist(bins=[-1, -0.75, -0.5, -0.25, 0.0, 0.25, 0.5, 0.75, 1],\n",
    "             ax=ax,\n",
    "             color=\"purple\")\n",
    "\n",
    "plt.title(\"Sentiments from Tweets on Climate Change\")\n",
    "plt.show()\n",
    "\n",
    "\n",
    "\n"
   ]
  },
  {
   "cell_type": "code",
   "execution_count": null,
   "metadata": {},
   "outputs": [],
   "source": []
  },
  {
   "cell_type": "code",
   "execution_count": null,
   "metadata": {},
   "outputs": [],
   "source": [
    "### THE 2018 WildFire in California"
   ]
  },
  {
   "cell_type": "code",
   "execution_count": 128,
   "metadata": {},
   "outputs": [
    {
     "data": {
      "text/plain": [
       "[TextBlob(\"Community efforts to become more wildfire ready are exemplary but local residents shouldnt be the only ones lea\"),\n",
       " TextBlob(\"Best idea yet as theyve proven over and over they cant be trusted California proposes enhanced oversight of\"),\n",
       " TextBlob(\"Spring2021 is not too far out With spring cleaning in mind a timely report from KTVN on preparing for\"),\n",
       " TextBlob(\"jonkershoek fire banhoek stellenbosch somersetwest wildfire westerncape All the best to the fire fighters\"),\n",
       " TextBlob(\"This figure highlights the number of acres burned per wildfire as well as structured damaged per acre burned since\")]"
      ]
     },
     "execution_count": 128,
     "metadata": {},
     "output_type": "execute_result"
    }
   ],
   "source": [
    "search_term = \"#WildFire -filter:retweets\"\n",
    "\n",
    "tweets = tw.Cursor(api.search,\n",
    "                   q=search_term,\n",
    "                   lang=\"en\",\n",
    "                   since='2018-09-23').items(1000)\n",
    "\n",
    "# Remove URLs and create textblob object for each tweet\n",
    "all_tweets_no_urls = [TextBlob(remove_url(tweet.text)) for tweet in tweets]\n",
    "\n",
    "all_tweets_no_urls[:5]\n"
   ]
  },
  {
   "cell_type": "code",
   "execution_count": 129,
   "metadata": {},
   "outputs": [
    {
     "data": {
      "text/html": [
       "<div>\n",
       "<style scoped>\n",
       "    .dataframe tbody tr th:only-of-type {\n",
       "        vertical-align: middle;\n",
       "    }\n",
       "\n",
       "    .dataframe tbody tr th {\n",
       "        vertical-align: top;\n",
       "    }\n",
       "\n",
       "    .dataframe thead th {\n",
       "        text-align: right;\n",
       "    }\n",
       "</style>\n",
       "<table border=\"1\" class=\"dataframe\">\n",
       "  <thead>\n",
       "    <tr style=\"text-align: right;\">\n",
       "      <th></th>\n",
       "      <th>polarity</th>\n",
       "      <th>tweet</th>\n",
       "    </tr>\n",
       "  </thead>\n",
       "  <tbody>\n",
       "    <tr>\n",
       "      <th>0</th>\n",
       "      <td>0.175</td>\n",
       "      <td>Community efforts to become more wildfire read...</td>\n",
       "    </tr>\n",
       "    <tr>\n",
       "      <th>1</th>\n",
       "      <td>1.000</td>\n",
       "      <td>Best idea yet as theyve proven over and over t...</td>\n",
       "    </tr>\n",
       "    <tr>\n",
       "      <th>2</th>\n",
       "      <td>0.100</td>\n",
       "      <td>Spring2021 is not too far out With spring clea...</td>\n",
       "    </tr>\n",
       "    <tr>\n",
       "      <th>3</th>\n",
       "      <td>1.000</td>\n",
       "      <td>jonkershoek fire banhoek stellenbosch somerset...</td>\n",
       "    </tr>\n",
       "    <tr>\n",
       "      <th>6</th>\n",
       "      <td>0.208</td>\n",
       "      <td>Wildfire fuel modification programs by LagunaB...</td>\n",
       "    </tr>\n",
       "  </tbody>\n",
       "</table>\n",
       "</div>"
      ],
      "text/plain": [
       "   polarity                                              tweet\n",
       "0     0.175  Community efforts to become more wildfire read...\n",
       "1     1.000  Best idea yet as theyve proven over and over t...\n",
       "2     0.100  Spring2021 is not too far out With spring clea...\n",
       "3     1.000  jonkershoek fire banhoek stellenbosch somerset...\n",
       "6     0.208  Wildfire fuel modification programs by LagunaB..."
      ]
     },
     "execution_count": 129,
     "metadata": {},
     "output_type": "execute_result"
    }
   ],
   "source": [
    "# Calculate polarity of tweets\n",
    "wild_sent_values = [[tweet.sentiment.polarity, str(tweet)] for tweet in all_tweets_no_urls]\n",
    "\n",
    "# Create dataframe containing polarity values and tweet text\n",
    "wild_sent_df = pd.DataFrame(wild_sent_values, columns=[\"polarity\", \"tweet\"])\n",
    "wild_sent_df = wild_sent_df[wild_sent_df.polarity != 0]\n",
    "\n",
    "wild_sent_df.head()\n"
   ]
  },
  {
   "cell_type": "code",
   "execution_count": 130,
   "metadata": {},
   "outputs": [
    {
     "data": {
      "image/png": "[encoded data removed]",
      "text/plain": [
       "<Figure size 576x432 with 1 Axes>"
      ]
     },
     "metadata": {},
     "output_type": "display_data"
    }
   ],
   "source": [
    "fig, ax = plt.subplots(figsize=(8, 6))\n",
    "\n",
    "wild_sent_df.hist(bins=[-1, -0.75, -0.5, -0.25, 0, 0.25, 0.5, 0.75, 1],\n",
    "        ax=ax, color=\"purple\")\n",
    "\n",
    "plt.title(\"Sentiments from Tweets on the WildFire\")\n",
    "plt.show()\n"
   ]
  },
  {
   "cell_type": "code",
   "execution_count": null,
   "metadata": {},
   "outputs": [],
   "source": []
  },
  {
   "cell_type": "code",
   "execution_count": null,
   "metadata": {},
   "outputs": [],
   "source": []
  },
  {
   "cell_type": "code",
   "execution_count": null,
   "metadata": {},
   "outputs": [],
   "source": []
  }
 ],
 "metadata": {
  "kernelspec": {
   "display_name": "Python 3",
   "language": "python",
   "name": "python3"
  },
  "language_info": {
   "codemirror_mode": {
    "name": "ipython",
    "version": 3
   },
   "file_extension": ".py",
   "mimetype": "text/x-python",
   "name": "python",
   "nbconvert_exporter": "python",
   "pygments_lexer": "ipython3",
   "version": "3.8.5"
  }
 },
 "nbformat": 4,
 "nbformat_minor": 4
}
